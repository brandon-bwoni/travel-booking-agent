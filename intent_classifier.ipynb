{
 "cells": [
  {
   "cell_type": "code",
   "execution_count": 3,
   "id": "dd221beb",
   "metadata": {},
   "outputs": [],
   "source": [
    "from typing import Annotated, TypedDict\n",
    "from langchain_core.messages import BaseMessage, HumanMessage\n",
    "from langgraph.graph.message import add_messages"
   ]
  },
  {
   "cell_type": "code",
   "execution_count": 2,
   "id": "21099b2f",
   "metadata": {},
   "outputs": [
    {
     "ename": "NameError",
     "evalue": "name 'TypedDict' is not defined",
     "output_type": "error",
     "traceback": [
      "\u001b[31m---------------------------------------------------------------------------\u001b[39m",
      "\u001b[31mNameError\u001b[39m                                 Traceback (most recent call last)",
      "\u001b[36mCell\u001b[39m\u001b[36m \u001b[39m\u001b[32mIn[2]\u001b[39m\u001b[32m, line 1\u001b[39m\n\u001b[32m----> \u001b[39m\u001b[32m1\u001b[39m \u001b[38;5;28;01mclass\u001b[39;00m\u001b[38;5;250m \u001b[39m\u001b[34;01mState\u001b[39;00m(\u001b[43mTypedDict\u001b[49m):\n\u001b[32m      2\u001b[39m \u001b[38;5;250m    \u001b[39m\u001b[33;03m\"\"\"State container optimized for message classification.\u001b[39;00m\n\u001b[32m      3\u001b[39m \n\u001b[32m      4\u001b[39m \u001b[33;03m    This implementation focuses on three key aspects:\u001b[39;00m\n\u001b[32m   (...)\u001b[39m\u001b[32m     16\u001b[39m \u001b[33;03m        more sophisticated routing and decision-making logic.\u001b[39;00m\n\u001b[32m     17\u001b[39m \u001b[33;03m    \"\"\"\u001b[39;00m\n\u001b[32m     19\u001b[39m     messages: Annotated[\u001b[38;5;28mlist\u001b[39m[BaseMessage], add_messages]\n",
      "\u001b[31mNameError\u001b[39m: name 'TypedDict' is not defined"
     ]
    }
   ],
   "source": [
    "class State(TypedDict):\n",
    "    \"\"\"State container optimized for message classification.\n",
    "\n",
    "    This implementation focuses on three key aspects:\n",
    "    1. Message storage with proper annotations\n",
    "    2. Classification category assignment\n",
    "    3. Confidence score tracking\n",
    "\n",
    "    Attributes:\n",
    "        messages: List of conversation messages with add_messages annotation\n",
    "        classification: Current message classification label\n",
    "        confidence: Classification confidence score (0.0 to 1.0)\n",
    "\n",
    "    Note:\n",
    "        The combination of classification and confidence enables\n",
    "        more sophisticated routing and decision-making logic.\n",
    "    \"\"\"\n",
    "\n",
    "    messages: Annotated[list[BaseMessage], add_messages]\n",
    "    classification: str\n",
    "    confidence: float"
   ]
  },
  {
   "cell_type": "code",
   "execution_count": 3,
   "id": "6ad39959",
   "metadata": {},
   "outputs": [],
   "source": [
    "def classifier_node(state: State) -> State:\n",
    "    \"\"\"Analyze and classify conversation messages with confidence scoring.\n",
    "\n",
    "    This node implements several key concepts:\n",
    "    1. Content-based classification\n",
    "    2. Confidence score assignment\n",
    "    3. State preservation during updates\n",
    "\n",
    "    The classification process follows this flow:\n",
    "    1. Extract last message content\n",
    "    2. Analyze content patterns\n",
    "    3. Assign classification and confidence\n",
    "    4. Preserve existing state\n",
    "\n",
    "    Args:\n",
    "        state: Current conversation state with messages\n",
    "\n",
    "    Returns:\n",
    "        State: Updated state with classification and confidence\n",
    "\n",
    "    Example:\n",
    "        >>> state = {\n",
    "        ...     \"messages\": [HumanMessage(content=\"Hello!\")],\n",
    "        ...     \"classification\": \"\",\n",
    "        ...     \"confidence\": 0.0\n",
    "        ... }\n",
    "        >>> result = classifier_node(state)\n",
    "        >>> print(f\"{result['classification']}: {result['confidence']}\")\n",
    "        \"greeting: 0.9\"\n",
    "    \"\"\"\n",
    "    # Extract message content for analysis\n",
    "    message = state[\"messages\"][-1].content\n",
    "\n",
    "    # Perform classification analysis\n",
    "    if \"hello\" in message.lower():\n",
    "        return {\n",
    "            \"messages\": state[\"messages\"],\n",
    "            \"classification\": \"greeting\",\n",
    "            \"confidence\": 0.9,\n",
    "        }\n",
    "    else:\n",
    "        return {\n",
    "            \"messages\": state[\"messages\"],\n",
    "            \"classification\": \"unknown\",\n",
    "            \"confidence\": 0.1,\n",
    "        }"
   ]
  },
  {
   "cell_type": "code",
   "execution_count": 4,
   "id": "cf3b5b82",
   "metadata": {},
   "outputs": [
    {
     "name": "stdout",
     "output_type": "stream",
     "text": [
      "Classification: greeting\n",
      "Confidence: 0.9\n"
     ]
    }
   ],
   "source": [
    "initial_state = {\n",
    "    \"messages\": [HumanMessage(content=\"Hello!\")],\n",
    "    \"classification\": \"\",\n",
    "    \"confidence\": 0.0,\n",
    "}\n",
    "\n",
    "result = classifier_node(initial_state)\n",
    "\n",
    "print(f\"Classification: {result['classification']}\")\n",
    "print(f\"Confidence: {result['confidence']}\")"
   ]
  },
  {
   "cell_type": "code",
   "execution_count": null,
   "id": "a6e4d07a",
   "metadata": {},
   "outputs": [],
   "source": []
  }
 ],
 "metadata": {
  "kernelspec": {
   "display_name": "venv",
   "language": "python",
   "name": "python3"
  },
  "language_info": {
   "codemirror_mode": {
    "name": "ipython",
    "version": 3
   },
   "file_extension": ".py",
   "mimetype": "text/x-python",
   "name": "python",
   "nbconvert_exporter": "python",
   "pygments_lexer": "ipython3",
   "version": "3.11.9"
  }
 },
 "nbformat": 4,
 "nbformat_minor": 5
}
